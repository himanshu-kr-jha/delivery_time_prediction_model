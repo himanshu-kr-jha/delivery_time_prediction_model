{
 "cells": [
  {
   "cell_type": "code",
   "execution_count": 2,
   "id": "c230731d-d11a-40fb-a2cd-13fdf2044e91",
   "metadata": {},
   "outputs": [],
   "source": [
    "import pandas as pd\n",
    "import numpy as np\n",
    "import matplotlib.pyplot as plt\n",
    "import seaborn as sns\n",
    "\n",
    "from sklearn.model_selection import train_test_split\n",
    "from sklearn.preprocessing import OneHotEncoder\n",
    "from sklearn.compose import ColumnTransformer\n",
    "from sklearn.pipeline import Pipeline\n",
    "from sklearn.impute import SimpleImputer\n",
    "from sklearn.ensemble import RandomForestRegressor\n",
    "from sklearn.metrics import mean_absolute_error, mean_squared_error, r2_score\n",
    "from sklearn.preprocessing import LabelEncoder, StandardScaler,OrdinalEncoder,RobustScaler\n",
    "from sklearn.feature_selection import SelectKBest, f_regression\n",
    "\n",
    "from sklearn.model_selection import cross_val_score\n",
    "from sklearn.ensemble import RandomForestRegressor, GradientBoostingRegressor\n",
    "import xgboost as xgb"
   ]
  },
  {
   "cell_type": "code",
   "execution_count": null,
   "id": "09b6d67c-1c2d-4034-8ff3-32bbd9b529d9",
   "metadata": {},
   "outputs": [],
   "source": [
    "# Load the dataset\n",
    "df = pd.read_csv(\"../Dataset/Food_Delivery_Times.csv\")"
   ]
  },
  {
   "cell_type": "code",
   "execution_count": 4,
   "id": "02d5c5b3-94ea-40b7-bfbe-9028162d482a",
   "metadata": {},
   "outputs": [
    {
     "name": "stdout",
     "output_type": "stream",
     "text": [
      "<class 'pandas.core.frame.DataFrame'>\n",
      "RangeIndex: 1000 entries, 0 to 999\n",
      "Data columns (total 9 columns):\n",
      " #   Column                  Non-Null Count  Dtype  \n",
      "---  ------                  --------------  -----  \n",
      " 0   Order_ID                1000 non-null   int64  \n",
      " 1   Distance_km             1000 non-null   float64\n",
      " 2   Weather                 970 non-null    object \n",
      " 3   Traffic_Level           970 non-null    object \n",
      " 4   Time_of_Day             970 non-null    object \n",
      " 5   Vehicle_Type            1000 non-null   object \n",
      " 6   Preparation_Time_min    1000 non-null   int64  \n",
      " 7   Courier_Experience_yrs  970 non-null    float64\n",
      " 8   Delivery_Time_min       1000 non-null   int64  \n",
      "dtypes: float64(2), int64(3), object(4)\n",
      "memory usage: 70.4+ KB\n"
     ]
    }
   ],
   "source": [
    "df.info()"
   ]
  },
  {
   "cell_type": "code",
   "execution_count": 5,
   "id": "63eea756-ccfc-420a-a2fd-c2d4369503e4",
   "metadata": {},
   "outputs": [],
   "source": [
    "# Drop the Order_ID column as it's not useful for prediction\n",
    "df = df.drop(columns=[\"Order_ID\"])"
   ]
  },
  {
   "cell_type": "code",
   "execution_count": 6,
   "id": "47f22759-d8a6-413d-96da-71a1c95d2b31",
   "metadata": {},
   "outputs": [
    {
     "data": {
      "text/html": [
       "<div>\n",
       "<style scoped>\n",
       "    .dataframe tbody tr th:only-of-type {\n",
       "        vertical-align: middle;\n",
       "    }\n",
       "\n",
       "    .dataframe tbody tr th {\n",
       "        vertical-align: top;\n",
       "    }\n",
       "\n",
       "    .dataframe thead th {\n",
       "        text-align: right;\n",
       "    }\n",
       "</style>\n",
       "<table border=\"1\" class=\"dataframe\">\n",
       "  <thead>\n",
       "    <tr style=\"text-align: right;\">\n",
       "      <th></th>\n",
       "      <th>Distance_km</th>\n",
       "      <th>Weather</th>\n",
       "      <th>Traffic_Level</th>\n",
       "      <th>Time_of_Day</th>\n",
       "      <th>Vehicle_Type</th>\n",
       "      <th>Preparation_Time_min</th>\n",
       "      <th>Courier_Experience_yrs</th>\n",
       "      <th>Delivery_Time_min</th>\n",
       "    </tr>\n",
       "  </thead>\n",
       "  <tbody>\n",
       "    <tr>\n",
       "      <th>0</th>\n",
       "      <td>7.93</td>\n",
       "      <td>Windy</td>\n",
       "      <td>Low</td>\n",
       "      <td>Afternoon</td>\n",
       "      <td>Scooter</td>\n",
       "      <td>12</td>\n",
       "      <td>1.0</td>\n",
       "      <td>43</td>\n",
       "    </tr>\n",
       "    <tr>\n",
       "      <th>1</th>\n",
       "      <td>16.42</td>\n",
       "      <td>Clear</td>\n",
       "      <td>Medium</td>\n",
       "      <td>Evening</td>\n",
       "      <td>Bike</td>\n",
       "      <td>20</td>\n",
       "      <td>2.0</td>\n",
       "      <td>84</td>\n",
       "    </tr>\n",
       "    <tr>\n",
       "      <th>2</th>\n",
       "      <td>9.52</td>\n",
       "      <td>Foggy</td>\n",
       "      <td>Low</td>\n",
       "      <td>Night</td>\n",
       "      <td>Scooter</td>\n",
       "      <td>28</td>\n",
       "      <td>1.0</td>\n",
       "      <td>59</td>\n",
       "    </tr>\n",
       "    <tr>\n",
       "      <th>3</th>\n",
       "      <td>7.44</td>\n",
       "      <td>Rainy</td>\n",
       "      <td>Medium</td>\n",
       "      <td>Afternoon</td>\n",
       "      <td>Scooter</td>\n",
       "      <td>5</td>\n",
       "      <td>1.0</td>\n",
       "      <td>37</td>\n",
       "    </tr>\n",
       "    <tr>\n",
       "      <th>4</th>\n",
       "      <td>19.03</td>\n",
       "      <td>Clear</td>\n",
       "      <td>Low</td>\n",
       "      <td>Morning</td>\n",
       "      <td>Bike</td>\n",
       "      <td>16</td>\n",
       "      <td>5.0</td>\n",
       "      <td>68</td>\n",
       "    </tr>\n",
       "    <tr>\n",
       "      <th>...</th>\n",
       "      <td>...</td>\n",
       "      <td>...</td>\n",
       "      <td>...</td>\n",
       "      <td>...</td>\n",
       "      <td>...</td>\n",
       "      <td>...</td>\n",
       "      <td>...</td>\n",
       "      <td>...</td>\n",
       "    </tr>\n",
       "    <tr>\n",
       "      <th>995</th>\n",
       "      <td>8.50</td>\n",
       "      <td>Clear</td>\n",
       "      <td>High</td>\n",
       "      <td>Evening</td>\n",
       "      <td>Car</td>\n",
       "      <td>13</td>\n",
       "      <td>3.0</td>\n",
       "      <td>54</td>\n",
       "    </tr>\n",
       "    <tr>\n",
       "      <th>996</th>\n",
       "      <td>16.28</td>\n",
       "      <td>Rainy</td>\n",
       "      <td>Low</td>\n",
       "      <td>Morning</td>\n",
       "      <td>Scooter</td>\n",
       "      <td>8</td>\n",
       "      <td>9.0</td>\n",
       "      <td>71</td>\n",
       "    </tr>\n",
       "    <tr>\n",
       "      <th>997</th>\n",
       "      <td>15.62</td>\n",
       "      <td>Snowy</td>\n",
       "      <td>High</td>\n",
       "      <td>Evening</td>\n",
       "      <td>Scooter</td>\n",
       "      <td>26</td>\n",
       "      <td>2.0</td>\n",
       "      <td>81</td>\n",
       "    </tr>\n",
       "    <tr>\n",
       "      <th>998</th>\n",
       "      <td>14.17</td>\n",
       "      <td>Clear</td>\n",
       "      <td>Low</td>\n",
       "      <td>Afternoon</td>\n",
       "      <td>Bike</td>\n",
       "      <td>8</td>\n",
       "      <td>0.0</td>\n",
       "      <td>55</td>\n",
       "    </tr>\n",
       "    <tr>\n",
       "      <th>999</th>\n",
       "      <td>6.63</td>\n",
       "      <td>Foggy</td>\n",
       "      <td>Low</td>\n",
       "      <td>Night</td>\n",
       "      <td>Scooter</td>\n",
       "      <td>24</td>\n",
       "      <td>3.0</td>\n",
       "      <td>58</td>\n",
       "    </tr>\n",
       "  </tbody>\n",
       "</table>\n",
       "<p>1000 rows × 8 columns</p>\n",
       "</div>"
      ],
      "text/plain": [
       "     Distance_km Weather Traffic_Level Time_of_Day Vehicle_Type  \\\n",
       "0           7.93   Windy           Low   Afternoon      Scooter   \n",
       "1          16.42   Clear        Medium     Evening         Bike   \n",
       "2           9.52   Foggy           Low       Night      Scooter   \n",
       "3           7.44   Rainy        Medium   Afternoon      Scooter   \n",
       "4          19.03   Clear           Low     Morning         Bike   \n",
       "..           ...     ...           ...         ...          ...   \n",
       "995         8.50   Clear          High     Evening          Car   \n",
       "996        16.28   Rainy           Low     Morning      Scooter   \n",
       "997        15.62   Snowy          High     Evening      Scooter   \n",
       "998        14.17   Clear           Low   Afternoon         Bike   \n",
       "999         6.63   Foggy           Low       Night      Scooter   \n",
       "\n",
       "     Preparation_Time_min  Courier_Experience_yrs  Delivery_Time_min  \n",
       "0                      12                     1.0                 43  \n",
       "1                      20                     2.0                 84  \n",
       "2                      28                     1.0                 59  \n",
       "3                       5                     1.0                 37  \n",
       "4                      16                     5.0                 68  \n",
       "..                    ...                     ...                ...  \n",
       "995                    13                     3.0                 54  \n",
       "996                     8                     9.0                 71  \n",
       "997                    26                     2.0                 81  \n",
       "998                     8                     0.0                 55  \n",
       "999                    24                     3.0                 58  \n",
       "\n",
       "[1000 rows x 8 columns]"
      ]
     },
     "execution_count": 6,
     "metadata": {},
     "output_type": "execute_result"
    }
   ],
   "source": [
    "df"
   ]
  },
  {
   "cell_type": "code",
   "execution_count": null,
   "id": "cd067a4a-3e9b-4862-89dc-f4096c80cfba",
   "metadata": {},
   "outputs": [],
   "source": [
    "# Separate features and target\n",
    "X = df.drop(\"Delivery_Time_min\", axis=1)\n",
    "y = df[\"Delivery_Time_min\"]"
   ]
  },
  {
   "cell_type": "code",
   "execution_count": 8,
   "id": "830dea43-8e97-4892-99eb-ece7a564001b",
   "metadata": {},
   "outputs": [
    {
     "name": "stdout",
     "output_type": "stream",
     "text": [
      "     Distance_km Weather Traffic_Level Time_of_Day Vehicle_Type  \\\n",
      "0           7.93   Windy           Low   Afternoon      Scooter   \n",
      "1          16.42   Clear        Medium     Evening         Bike   \n",
      "2           9.52   Foggy           Low       Night      Scooter   \n",
      "3           7.44   Rainy        Medium   Afternoon      Scooter   \n",
      "4          19.03   Clear           Low     Morning         Bike   \n",
      "..           ...     ...           ...         ...          ...   \n",
      "995         8.50   Clear          High     Evening          Car   \n",
      "996        16.28   Rainy           Low     Morning      Scooter   \n",
      "997        15.62   Snowy          High     Evening      Scooter   \n",
      "998        14.17   Clear           Low   Afternoon         Bike   \n",
      "999         6.63   Foggy           Low       Night      Scooter   \n",
      "\n",
      "     Preparation_Time_min  Courier_Experience_yrs  \n",
      "0                      12                     1.0  \n",
      "1                      20                     2.0  \n",
      "2                      28                     1.0  \n",
      "3                       5                     1.0  \n",
      "4                      16                     5.0  \n",
      "..                    ...                     ...  \n",
      "995                    13                     3.0  \n",
      "996                     8                     9.0  \n",
      "997                    26                     2.0  \n",
      "998                     8                     0.0  \n",
      "999                    24                     3.0  \n",
      "\n",
      "[1000 rows x 7 columns]\n",
      "0      43\n",
      "1      84\n",
      "2      59\n",
      "3      37\n",
      "4      68\n",
      "       ..\n",
      "995    54\n",
      "996    71\n",
      "997    81\n",
      "998    55\n",
      "999    58\n",
      "Name: Delivery_Time_min, Length: 1000, dtype: int64\n"
     ]
    }
   ],
   "source": [
    "print(X)\n",
    "print(y)"
   ]
  },
  {
   "cell_type": "code",
   "execution_count": 9,
   "id": "55b8a55d-6f6d-4fb8-a651-f4c3c42598f7",
   "metadata": {},
   "outputs": [],
   "source": [
    "# Split the data\n",
    "X_train, X_test, y_train, y_test = train_test_split(X, y, test_size=0.2, random_state=42)"
   ]
  },
  {
   "cell_type": "code",
   "execution_count": null,
   "id": "5993397f-88b7-489d-a545-cce110350144",
   "metadata": {},
   "outputs": [],
   "source": [
    "# Identify categorical and numerical columns\n",
    "categorical_cols = X.select_dtypes(include=[\"object\"]).columns.tolist()\n",
    "numerical_cols = X.select_dtypes(include=[\"float64\", \"int64\"]).columns.tolist()"
   ]
  },
  {
   "cell_type": "code",
   "execution_count": 34,
   "id": "b42f9783",
   "metadata": {},
   "outputs": [
    {
     "data": {
      "text/plain": [
       "['Distance_km', 'Preparation_Time_min', 'Courier_Experience_yrs']"
      ]
     },
     "execution_count": 34,
     "metadata": {},
     "output_type": "execute_result"
    }
   ],
   "source": [
    "numerical_cols"
   ]
  },
  {
   "cell_type": "code",
   "execution_count": 40,
   "id": "e39fb19f-ef29-4ae2-a565-727eef80cfb7",
   "metadata": {},
   "outputs": [],
   "source": [
    "# Preprocessing for numerical data\n",
    "numerical_transformer = Pipeline([\n",
    "    (\"imputer\", SimpleImputer(strategy=\"mean\")),\n",
    "    (\"scaler\", RobustScaler()),\n",
    "    # (\"poly\", PolynomialFeatures(degree=4, include_bias=False))\n",
    "    (\"feature_selection\", SelectKBest(score_func=f_regression, k=3)) \n",
    "])\n",
    "\n",
    "# Preprocessing for categorical data\n",
    "categorical_transformer = Pipeline(steps=[\n",
    "    (\"imputer\", SimpleImputer(strategy=\"most_frequent\")),\n",
    "    (\"onehot\", OneHotEncoder(handle_unknown=\"ignore\"))\n",
    "])"
   ]
  },
  {
   "cell_type": "code",
   "execution_count": 41,
   "id": "439200b9-5f25-48e3-81d3-1e676fdbd37b",
   "metadata": {},
   "outputs": [],
   "source": [
    "# Combine preprocessing steps\n",
    "preprocessor = ColumnTransformer(\n",
    "    transformers=[\n",
    "        (\"num\", numerical_transformer, numerical_cols),\n",
    "        (\"cat\", categorical_transformer, categorical_cols)\n",
    "    ]\n",
    ")"
   ]
  },
  {
   "cell_type": "code",
   "execution_count": 42,
   "id": "23b4ee9a-b6fb-4ad8-9702-db159b0da4ac",
   "metadata": {},
   "outputs": [],
   "source": [
    "def modelPipeline(modelR,X_train, X_test, y_train, y_test):\n",
    "    model = Pipeline(steps=[\n",
    "        (\"preprocessor\", preprocessor),\n",
    "        (\"regressor\", modelR)\n",
    "    ])\n",
    "    model.fit(X_train, y_train)\n",
    "    y_pred = model.predict(X_test)\n",
    "    results_df = pd.DataFrame({\n",
    "        \"Actual\": y_test.values,\n",
    "        \"Predicted\": y_pred\n",
    "    })\n",
    "    # Evaluate the model\n",
    "    mae = mean_absolute_error(y_test, y_pred)\n",
    "    rmse = np.sqrt(mean_squared_error(y_test, y_pred))\n",
    "    r2 = r2_score(y_test, y_pred)\n",
    "    cv_scores = cross_val_score(model, X_train, y_train, cv=5, scoring='r2')\n",
    "    \n",
    "    metrics_df = pd.DataFrame({\n",
    "        \"MAE\": [mae],\n",
    "        \"RMSE\": [rmse],\n",
    "        \"R2\": [r2],\n",
    "        \"CV_R2_Mean\": [cv_scores.mean()],\n",
    "        \"CV_R2_Std\": [cv_scores.std()]\n",
    "    })\n",
    "\n",
    "    # print(\"Model Evaluation Metrics:\")\n",
    "    # print(f\"MAE: {mae:.2f}\")\n",
    "    # print(f\"RMSE: {rmse:.2f}\")\n",
    "    # print(f\"R2 Score: {r2:.2f}\")\n",
    "    # print(f\"Cross-validated R²: {cv_scores.mean():.2f}\")\n",
    "\n",
    "    return metrics_df"
   ]
  },
  {
   "cell_type": "code",
   "execution_count": 43,
   "id": "28ddb05f-747f-465c-88f3-b513bff90934",
   "metadata": {},
   "outputs": [
    {
     "data": {
      "text/html": [
       "<div>\n",
       "<style scoped>\n",
       "    .dataframe tbody tr th:only-of-type {\n",
       "        vertical-align: middle;\n",
       "    }\n",
       "\n",
       "    .dataframe tbody tr th {\n",
       "        vertical-align: top;\n",
       "    }\n",
       "\n",
       "    .dataframe thead th {\n",
       "        text-align: right;\n",
       "    }\n",
       "</style>\n",
       "<table border=\"1\" class=\"dataframe\">\n",
       "  <thead>\n",
       "    <tr style=\"text-align: right;\">\n",
       "      <th></th>\n",
       "      <th>MAE</th>\n",
       "      <th>RMSE</th>\n",
       "      <th>R2</th>\n",
       "      <th>CV_R2_Mean</th>\n",
       "      <th>CV_R2_Std</th>\n",
       "    </tr>\n",
       "  </thead>\n",
       "  <tbody>\n",
       "    <tr>\n",
       "      <th>0</th>\n",
       "      <td>6.84705</td>\n",
       "      <td>9.582953</td>\n",
       "      <td>0.795119</td>\n",
       "      <td>0.696034</td>\n",
       "      <td>0.052932</td>\n",
       "    </tr>\n",
       "  </tbody>\n",
       "</table>\n",
       "</div>"
      ],
      "text/plain": [
       "       MAE      RMSE        R2  CV_R2_Mean  CV_R2_Std\n",
       "0  6.84705  9.582953  0.795119    0.696034   0.052932"
      ]
     },
     "execution_count": 43,
     "metadata": {},
     "output_type": "execute_result"
    }
   ],
   "source": [
    "modelPipeline(RandomForestRegressor(random_state=42),X_train, X_test, y_train, y_test)"
   ]
  },
  {
   "cell_type": "code",
   "execution_count": 44,
   "id": "f58fbf4e-e5d0-4d54-8794-0a60516d7cb0",
   "metadata": {},
   "outputs": [
    {
     "data": {
      "text/html": [
       "<div>\n",
       "<style scoped>\n",
       "    .dataframe tbody tr th:only-of-type {\n",
       "        vertical-align: middle;\n",
       "    }\n",
       "\n",
       "    .dataframe tbody tr th {\n",
       "        vertical-align: top;\n",
       "    }\n",
       "\n",
       "    .dataframe thead th {\n",
       "        text-align: right;\n",
       "    }\n",
       "</style>\n",
       "<table border=\"1\" class=\"dataframe\">\n",
       "  <thead>\n",
       "    <tr style=\"text-align: right;\">\n",
       "      <th></th>\n",
       "      <th>MAE</th>\n",
       "      <th>RMSE</th>\n",
       "      <th>R2</th>\n",
       "      <th>CV_R2_Mean</th>\n",
       "      <th>CV_R2_Std</th>\n",
       "    </tr>\n",
       "  </thead>\n",
       "  <tbody>\n",
       "    <tr>\n",
       "      <th>0</th>\n",
       "      <td>6.598749</td>\n",
       "      <td>9.389548</td>\n",
       "      <td>0.803306</td>\n",
       "      <td>0.71295</td>\n",
       "      <td>0.066977</td>\n",
       "    </tr>\n",
       "  </tbody>\n",
       "</table>\n",
       "</div>"
      ],
      "text/plain": [
       "        MAE      RMSE        R2  CV_R2_Mean  CV_R2_Std\n",
       "0  6.598749  9.389548  0.803306     0.71295   0.066977"
      ]
     },
     "execution_count": 44,
     "metadata": {},
     "output_type": "execute_result"
    }
   ],
   "source": [
    "modelPipeline(GradientBoostingRegressor(random_state=42),X_train, X_test, y_train, y_test)"
   ]
  },
  {
   "cell_type": "code",
   "execution_count": 45,
   "id": "70d5a3a2-167c-4206-9576-7677aee85b27",
   "metadata": {},
   "outputs": [
    {
     "data": {
      "text/html": [
       "<div>\n",
       "<style scoped>\n",
       "    .dataframe tbody tr th:only-of-type {\n",
       "        vertical-align: middle;\n",
       "    }\n",
       "\n",
       "    .dataframe tbody tr th {\n",
       "        vertical-align: top;\n",
       "    }\n",
       "\n",
       "    .dataframe thead th {\n",
       "        text-align: right;\n",
       "    }\n",
       "</style>\n",
       "<table border=\"1\" class=\"dataframe\">\n",
       "  <thead>\n",
       "    <tr style=\"text-align: right;\">\n",
       "      <th></th>\n",
       "      <th>MAE</th>\n",
       "      <th>RMSE</th>\n",
       "      <th>R2</th>\n",
       "      <th>CV_R2_Mean</th>\n",
       "      <th>CV_R2_Std</th>\n",
       "    </tr>\n",
       "  </thead>\n",
       "  <tbody>\n",
       "    <tr>\n",
       "      <th>0</th>\n",
       "      <td>8.047232</td>\n",
       "      <td>10.949979</td>\n",
       "      <td>0.732497</td>\n",
       "      <td>0.650938</td>\n",
       "      <td>0.027185</td>\n",
       "    </tr>\n",
       "  </tbody>\n",
       "</table>\n",
       "</div>"
      ],
      "text/plain": [
       "        MAE       RMSE        R2  CV_R2_Mean  CV_R2_Std\n",
       "0  8.047232  10.949979  0.732497    0.650938   0.027185"
      ]
     },
     "execution_count": 45,
     "metadata": {},
     "output_type": "execute_result"
    }
   ],
   "source": [
    "modelPipeline(xgb.XGBRegressor(random_state=42, verbosity=0),X_train, X_test, y_train, y_test)"
   ]
  },
  {
   "cell_type": "code",
   "execution_count": null,
   "id": "070c11e5-3296-4b8f-853e-20873aaf0946",
   "metadata": {},
   "outputs": [],
   "source": []
  }
 ],
 "metadata": {
  "kernelspec": {
   "display_name": "myenv",
   "language": "python",
   "name": "python3"
  },
  "language_info": {
   "codemirror_mode": {
    "name": "ipython",
    "version": 3
   },
   "file_extension": ".py",
   "mimetype": "text/x-python",
   "name": "python",
   "nbconvert_exporter": "python",
   "pygments_lexer": "ipython3",
   "version": "3.11.13"
  }
 },
 "nbformat": 4,
 "nbformat_minor": 5
}
